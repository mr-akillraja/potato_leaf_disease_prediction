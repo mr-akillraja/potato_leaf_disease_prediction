{
 "cells": [
  {
   "cell_type": "code",
   "execution_count": 1,
   "metadata": {},
   "outputs": [
    {
     "name": "stdout",
     "output_type": "stream",
     "text": [
      "Path to dataset files: /home/akill_sud/.cache/kagglehub/datasets/arjuntejaswi/plant-village/versions/1\n"
     ]
    }
   ],
   "source": [
    "import kagglehub\n",
    "\n",
    "# Download latest version\n",
    "path = kagglehub.dataset_download(\"arjuntejaswi/plant-village\")\n",
    "\n",
    "print(\"Path to dataset files:\", path)"
   ]
  },
  {
   "cell_type": "code",
   "execution_count": 2,
   "metadata": {},
   "outputs": [
    {
     "name": "stderr",
     "output_type": "stream",
     "text": [
      "2024-12-30 22:28:42.274063: E external/local_xla/xla/stream_executor/cuda/cuda_fft.cc:477] Unable to register cuFFT factory: Attempting to register factory for plugin cuFFT when one has already been registered\n",
      "WARNING: All log messages before absl::InitializeLog() is called are written to STDERR\n",
      "E0000 00:00:1735577922.327038    8646 cuda_dnn.cc:8310] Unable to register cuDNN factory: Attempting to register factory for plugin cuDNN when one has already been registered\n",
      "E0000 00:00:1735577922.341985    8646 cuda_blas.cc:1418] Unable to register cuBLAS factory: Attempting to register factory for plugin cuBLAS when one has already been registered\n",
      "2024-12-30 22:28:42.470104: I tensorflow/core/platform/cpu_feature_guard.cc:210] This TensorFlow binary is optimized to use available CPU instructions in performance-critical operations.\n",
      "To enable the following instructions: AVX2 FMA, in other operations, rebuild TensorFlow with the appropriate compiler flags.\n"
     ]
    },
    {
     "name": "stdout",
     "output_type": "stream",
     "text": [
      "Num GPUs Available:  1\n"
     ]
    }
   ],
   "source": [
    "import tensorflow as tf\n",
    "print(\"Num GPUs Available: \", len(tf.config.list_physical_devices('GPU')))\n"
   ]
  },
  {
   "cell_type": "code",
   "execution_count": 3,
   "metadata": {},
   "outputs": [],
   "source": [
    "import tensorflow as tf\n",
    "import numpy as np\n",
    "import pandas as pd\n",
    "import matplotlib.pyplot as plt\n",
    "from tensorflow.keras import models,layers"
   ]
  },
  {
   "cell_type": "code",
   "execution_count": 4,
   "metadata": {},
   "outputs": [],
   "source": [
    "IMAGE_SIZE = 256\n",
    "BATCH_SIZE = 32"
   ]
  },
  {
   "cell_type": "code",
   "execution_count": 5,
   "metadata": {},
   "outputs": [
    {
     "name": "stdout",
     "output_type": "stream",
     "text": [
      "Found 2152 files belonging to 3 classes.\n"
     ]
    },
    {
     "name": "stderr",
     "output_type": "stream",
     "text": [
      "I0000 00:00:1735577929.138415    8646 gpu_device.cc:2022] Created device /job:localhost/replica:0/task:0/device:GPU:0 with 2278 MB memory:  -> device: 0, name: NVIDIA GeForce RTX 3050 Laptop GPU, pci bus id: 0000:01:00.0, compute capability: 8.6\n"
     ]
    }
   ],
   "source": [
    "dataset = tf.keras.preprocessing.image_dataset_from_directory(\n",
    "    \"PlantVillage\",\n",
    "    shuffle = True,\n",
    "    image_size = (IMAGE_SIZE,IMAGE_SIZE),\n",
    "    batch_size = 32\n",
    ")"
   ]
  },
  {
   "cell_type": "code",
   "execution_count": 6,
   "metadata": {},
   "outputs": [
    {
     "data": {
      "text/plain": [
       "['Potato___Early_blight', 'Potato___Late_blight', 'Potato___healthy']"
      ]
     },
     "execution_count": 6,
     "metadata": {},
     "output_type": "execute_result"
    }
   ],
   "source": [
    "class_names = dataset.class_names\n",
    "class_names"
   ]
  },
  {
   "cell_type": "code",
   "execution_count": 7,
   "metadata": {},
   "outputs": [
    {
     "data": {
      "text/plain": [
       "68"
      ]
     },
     "execution_count": 7,
     "metadata": {},
     "output_type": "execute_result"
    }
   ],
   "source": [
    "len(dataset)"
   ]
  },
  {
   "cell_type": "code",
   "execution_count": 10,
   "metadata": {},
   "outputs": [
    {
     "name": "stdout",
     "output_type": "stream",
     "text": [
      "Image batch shape:  ()\n",
      "Image batch shape:  ()\n",
      "Image batch shape:  ()\n",
      "Image batch shape:  ()\n",
      "Image batch shape:  ()\n",
      "Image batch shape:  ()\n",
      "Image batch shape:  ()\n",
      "Image batch shape:  ()\n",
      "Image batch shape:  ()\n",
      "Image batch shape:  ()\n",
      "Image batch shape:  ()\n",
      "Image batch shape:  ()\n",
      "Image batch shape:  ()\n",
      "Image batch shape:  ()\n",
      "Image batch shape:  ()\n",
      "Image batch shape:  ()\n",
      "Image batch shape:  ()\n",
      "Image batch shape:  ()\n",
      "Image batch shape:  ()\n",
      "Image batch shape:  ()\n",
      "Image batch shape:  ()\n",
      "Image batch shape:  ()\n",
      "Image batch shape:  ()\n",
      "Image batch shape:  ()\n",
      "Image batch shape:  ()\n",
      "Image batch shape:  ()\n",
      "Image batch shape:  ()\n",
      "Image batch shape:  ()\n",
      "Image batch shape:  ()\n",
      "Image batch shape:  ()\n",
      "Image batch shape:  ()\n",
      "Image batch shape:  ()\n",
      "Image batch shape:  ()\n",
      "Image batch shape:  ()\n",
      "Image batch shape:  ()\n",
      "Image batch shape:  ()\n",
      "Image batch shape:  ()\n",
      "Image batch shape:  ()\n",
      "Image batch shape:  ()\n",
      "Image batch shape:  ()\n",
      "Image batch shape:  ()\n",
      "Image batch shape:  ()\n",
      "Image batch shape:  ()\n",
      "Image batch shape:  ()\n",
      "Image batch shape:  ()\n",
      "Image batch shape:  ()\n",
      "Image batch shape:  ()\n",
      "Image batch shape:  ()\n",
      "Image batch shape:  ()\n",
      "Image batch shape:  ()\n",
      "Image batch shape:  ()\n",
      "Image batch shape:  ()\n",
      "Image batch shape:  ()\n",
      "Image batch shape:  ()\n",
      "Image batch shape:  ()\n",
      "Image batch shape:  ()\n",
      "Image batch shape:  ()\n",
      "Image batch shape:  ()\n",
      "Image batch shape:  ()\n",
      "Image batch shape:  ()\n",
      "Image batch shape:  ()\n",
      "Image batch shape:  ()\n",
      "Image batch shape:  ()\n",
      "Image batch shape:  ()\n",
      "Image batch shape:  ()\n",
      "Image batch shape:  ()\n",
      "Image batch shape:  ()\n",
      "Image batch shape:  ()\n"
     ]
    }
   ],
   "source": []
  },
  {
   "cell_type": "code",
   "execution_count": null,
   "metadata": {},
   "outputs": [],
   "source": []
  }
 ],
 "metadata": {
  "kernelspec": {
   "display_name": "gpu_env",
   "language": "python",
   "name": "python3"
  },
  "language_info": {
   "codemirror_mode": {
    "name": "ipython",
    "version": 3
   },
   "file_extension": ".py",
   "mimetype": "text/x-python",
   "name": "python",
   "nbconvert_exporter": "python",
   "pygments_lexer": "ipython3",
   "version": "3.9.21"
  }
 },
 "nbformat": 4,
 "nbformat_minor": 2
}
